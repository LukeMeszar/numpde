{
 "cells": [
  {
   "cell_type": "code",
   "execution_count": 1,
   "metadata": {},
   "outputs": [
    {
     "ename": "NameError",
     "evalue": "name 'sp' is not defined",
     "output_type": "error",
     "traceback": [
      "\u001b[1;31m---------------------------------------------------------------------------\u001b[0m",
      "\u001b[1;31mNameError\u001b[0m                                 Traceback (most recent call last)",
      "\u001b[1;32m<ipython-input-1-55b50e6be43b>\u001b[0m in \u001b[0;36m<module>\u001b[1;34m()\u001b[0m\n\u001b[0;32m     66\u001b[0m \u001b[0mu\u001b[0m \u001b[1;33m=\u001b[0m \u001b[1;36m0\u001b[0m\u001b[1;33m*\u001b[0m\u001b[0mx\u001b[0m\u001b[1;33m\u001b[0m\u001b[0m\n\u001b[0;32m     67\u001b[0m F, J = nonlinear2d_div(h, x, y, u, lambda x,y: 0*x+1,\n\u001b[1;32m---> 68\u001b[1;33m                        lambda x,y: 0*x, dirichlet=((0,-1),(0,-1)))\n\u001b[0m\u001b[0;32m     69\u001b[0m \u001b[0mdeltau\u001b[0m \u001b[1;33m=\u001b[0m \u001b[0msp\u001b[0m\u001b[1;33m.\u001b[0m\u001b[0mlinalg\u001b[0m\u001b[1;33m.\u001b[0m\u001b[0mspsolve\u001b[0m\u001b[1;33m(\u001b[0m\u001b[0mJ\u001b[0m\u001b[1;33m,\u001b[0m \u001b[1;33m-\u001b[0m\u001b[0mF\u001b[0m\u001b[1;33m)\u001b[0m\u001b[1;33m.\u001b[0m\u001b[0mreshape\u001b[0m\u001b[1;33m(\u001b[0m\u001b[0mx\u001b[0m\u001b[1;33m.\u001b[0m\u001b[0mshape\u001b[0m\u001b[1;33m)\u001b[0m\u001b[1;33m\u001b[0m\u001b[0m\n\u001b[0;32m     70\u001b[0m \u001b[0mplt\u001b[0m\u001b[1;33m.\u001b[0m\u001b[0mcontourf\u001b[0m\u001b[1;33m(\u001b[0m\u001b[0mx\u001b[0m\u001b[1;33m,\u001b[0m \u001b[0my\u001b[0m\u001b[1;33m,\u001b[0m \u001b[0mdeltau\u001b[0m\u001b[1;33m)\u001b[0m\u001b[1;33m\u001b[0m\u001b[0m\n",
      "\u001b[1;32m<ipython-input-1-55b50e6be43b>\u001b[0m in \u001b[0;36mnonlinear2d_div\u001b[1;34m(h, x, y, u, forcing, g0, dirichlet)\u001b[0m\n\u001b[0;32m     59\u001b[0m                 \u001b[0maj\u001b[0m \u001b[1;33m+=\u001b[0m \u001b[0mstencili\u001b[0m\u001b[1;33m[\u001b[0m\u001b[0msmask\u001b[0m\u001b[1;33m]\u001b[0m\u001b[1;33m.\u001b[0m\u001b[0mtolist\u001b[0m\u001b[1;33m(\u001b[0m\u001b[1;33m)\u001b[0m\u001b[1;33m\u001b[0m\u001b[0m\n\u001b[0;32m     60\u001b[0m                 \u001b[0mav\u001b[0m \u001b[1;33m+=\u001b[0m \u001b[0mJstencil\u001b[0m\u001b[1;33m[\u001b[0m\u001b[0msmask\u001b[0m\u001b[1;33m]\u001b[0m\u001b[1;33m.\u001b[0m\u001b[0mtolist\u001b[0m\u001b[1;33m(\u001b[0m\u001b[1;33m)\u001b[0m\u001b[1;33m\u001b[0m\u001b[0m\n\u001b[1;32m---> 61\u001b[1;33m     \u001b[0mJ\u001b[0m \u001b[1;33m=\u001b[0m \u001b[0msp\u001b[0m\u001b[1;33m.\u001b[0m\u001b[0mcsr_matrix\u001b[0m\u001b[1;33m(\u001b[0m\u001b[1;33m(\u001b[0m\u001b[0mav\u001b[0m\u001b[1;33m,\u001b[0m \u001b[1;33m(\u001b[0m\u001b[0mai\u001b[0m\u001b[1;33m,\u001b[0m \u001b[0maj\u001b[0m\u001b[1;33m)\u001b[0m\u001b[1;33m)\u001b[0m\u001b[1;33m,\u001b[0m \u001b[0mshape\u001b[0m\u001b[1;33m=\u001b[0m\u001b[1;33m(\u001b[0m\u001b[0mm\u001b[0m\u001b[1;33m*\u001b[0m\u001b[0mm\u001b[0m\u001b[1;33m,\u001b[0m\u001b[0mm\u001b[0m\u001b[1;33m*\u001b[0m\u001b[0mm\u001b[0m\u001b[1;33m)\u001b[0m\u001b[1;33m)\u001b[0m\u001b[1;33m\u001b[0m\u001b[0m\n\u001b[0m\u001b[0;32m     62\u001b[0m     \u001b[1;32mreturn\u001b[0m \u001b[0mF\u001b[0m\u001b[1;33m,\u001b[0m \u001b[0mJ\u001b[0m\u001b[1;33m\u001b[0m\u001b[0m\n\u001b[0;32m     63\u001b[0m \u001b[1;33m\u001b[0m\u001b[0m\n",
      "\u001b[1;31mNameError\u001b[0m: name 'sp' is not defined"
     ]
    }
   ],
   "source": [
    "%matplotlib inline\n",
    "import numpy as np\n",
    "from matplotlib import pyplot as plt\n",
    "import scipy.sparse as sp\n",
    "import scipy.sparse.linalg\n",
    "plt.style.use('ggplot')\n",
    "def hgrid(h):\n",
    "    m = int(1/h + 1)  # Number of elements in terms of nominal grid spacing h\n",
    "    h = 1 / (m-1)     # Actual grid spacing\n",
    "    c = np.linspace(0, 1, m)\n",
    "    y, x = np.meshgrid(c, c)\n",
    "    return x, y\n",
    "\n",
    "def nonlinear2d_div(h, x, y, u, forcing, g0, dirichlet=((),())):\n",
    "    m = x.shape[0]\n",
    "    u0 = g0(x, y).flatten()\n",
    "    F = -forcing(x, y).flatten()\n",
    "    ai = []\n",
    "    aj = []\n",
    "    av = []\n",
    "    def idx(i, j):\n",
    "        i = (m-1) - abs(m-1 - abs(i))\n",
    "        j = (m-1) - abs(m-1 - abs(j))\n",
    "        return i*m + j\n",
    "    mask = np.ones_like(x, dtype=bool)\n",
    "    mask[dirichlet[0],:] = False\n",
    "    mask[:,dirichlet[1]] = False\n",
    "    mask = mask.flatten()\n",
    "    u = u.flatten()\n",
    "    F[mask == False] = u[mask == False] - u0[mask == False]\n",
    "    u[mask == False] = u0[mask == False]\n",
    "    for i in range(m):\n",
    "        for j in range(m):\n",
    "            row = idx(i, j)\n",
    "            stencili = np.array([idx(*pair) for pair in [(i-1, j), (i, j-1), (i, j), (i, j+1), (i+1, j)]])\n",
    "            # Stencil to evaluate gradient at four staggered points\n",
    "            grad = np.array([[-1, 0, 1, 0, 0],\n",
    "                                [0, -1, 1, 0, 0],\n",
    "                                [0, 0, -1, 1, 0],\n",
    "                                [0, 0, -1, 0, 1]]) / h\n",
    "            # Stencil to average at four staggered points\n",
    "            avg  = np.array([[1, 0, 1, 0, 0],\n",
    "                                [0, 1, 1, 0, 0],\n",
    "                                [0, 0, 1, 1, 0],\n",
    "                                [0, 0, 1, 0, 1]]) / 2\n",
    "            # Stencil to compute divergence at cell centers from fluxes at four staggered points\n",
    "            div = np.array([-1, -1, 1, 1]) / h\n",
    "            ustencil = u[stencili]\n",
    "            ustag = avg @ ustencil\n",
    "            kappa = 1 + ustag**2\n",
    "            if mask[row] == 0: # Dirichlet boundary\n",
    "                ai.append(row)\n",
    "                aj.append(row)\n",
    "                av.append(1)\n",
    "            else:\n",
    "                F[row] -= div @ (kappa[:,None] * grad @ ustencil)\n",
    "                Jstencil = -div @ (kappa[:,None] * grad\n",
    "                    + 2*(ustag*(grad @ ustencil))[:,None] * avg)\n",
    "                smask = mask[stencili]\n",
    "                ai += [row]*sum(smask)\n",
    "                aj += stencili[smask].tolist()\n",
    "                av += Jstencil[smask].tolist()\n",
    "    J = sp.csr_matrix((av, (ai, aj)), shape=(m*m,m*m))\n",
    "    return F, J\n",
    "\n",
    "h = .1\n",
    "x, y = hgrid(h)\n",
    "u = 0*x\n",
    "F, J = nonlinear2d_div(h, x, y, u, lambda x,y: 0*x+1,\n",
    "                       lambda x,y: 0*x, dirichlet=((0,-1),(0,-1)))\n",
    "deltau = sp.linalg.spsolve(J, -F).reshape(x.shape)\n",
    "plt.contourf(x, y, deltau)\n",
    "plt.colorbar();"
   ]
  },
  {
   "cell_type": "code",
   "execution_count": null,
   "metadata": {},
   "outputs": [],
   "source": []
  }
 ],
 "metadata": {
  "kernelspec": {
   "display_name": "Python 3",
   "language": "python",
   "name": "python3"
  },
  "language_info": {
   "codemirror_mode": {
    "name": "ipython",
    "version": 3
   },
   "file_extension": ".py",
   "mimetype": "text/x-python",
   "name": "python",
   "nbconvert_exporter": "python",
   "pygments_lexer": "ipython3",
   "version": "3.5.4"
  }
 },
 "nbformat": 4,
 "nbformat_minor": 2
}
